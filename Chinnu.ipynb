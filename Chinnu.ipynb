{
  "nbformat": 4,
  "nbformat_minor": 0,
  "metadata": {
    "colab": {
      "provenance": []
    },
    "kernelspec": {
      "name": "python3",
      "display_name": "Python 3"
    },
    "language_info": {
      "name": "python"
    }
  },
  "cells": [
    {
      "cell_type": "code",
      "execution_count": null,
      "metadata": {
        "colab": {
          "base_uri": "https://localhost:8080/"
        },
        "id": "0YWPRo2xcJuq",
        "outputId": "114b848b-45ae-42bb-b916-7fd8bd1d79ea"
      },
      "outputs": [
        {
          "output_type": "stream",
          "name": "stdout",
          "text": [
            "20\n"
          ]
        }
      ],
      "source": [
        "\n",
        "def sum_even():\n",
        "  numbers = [1,2,3,4,5,6,7,8]\n",
        "  sum = 0\n",
        "  for num in numbers:\n",
        "    if num % 2 == 0:\n",
        "      sum += num\n",
        "  print(sum)\n",
        "sum_even()\n",
        "\n",
        "\n",
        "\n",
        "\n"
      ]
    },
    {
      "cell_type": "code",
      "source": [
        "from collections import Counter\n",
        "sentence = input(\"Enter the sentence:\")\n",
        "word = sentence.split()\n",
        "count_words = Counter(word)\n",
        "print(count_words)\n"
      ],
      "metadata": {
        "colab": {
          "base_uri": "https://localhost:8080/"
        },
        "id": "39w2tEdngBAT",
        "outputId": "a1c3daa9-9835-4133-efd5-885288a52223"
      },
      "execution_count": null,
      "outputs": [
        {
          "output_type": "stream",
          "name": "stdout",
          "text": [
            "Enter the sentence:hello how are you\n",
            "Counter({'hello': 1, 'how': 1, 'are': 1, 'you': 1})\n"
          ]
        }
      ]
    },
    {
      "cell_type": "markdown",
      "source": [
        "Coding: Return prime numbers from a list"
      ],
      "metadata": {
        "id": "nsvSbkEFhzNY"
      }
    },
    {
      "cell_type": "code",
      "source": [
        "numbers = [1,2,3,4,5,6,7,8]\n",
        "for num in numbers:\n",
        "  if num % 2 == 0:\n",
        "    print(num)"
      ],
      "metadata": {
        "colab": {
          "base_uri": "https://localhost:8080/"
        },
        "id": "-4hSIESzh0lU",
        "outputId": "972a9e79-7c08-459c-b333-a063fdf6de4a"
      },
      "execution_count": null,
      "outputs": [
        {
          "output_type": "stream",
          "name": "stdout",
          "text": [
            "2\n",
            "4\n",
            "6\n",
            "8\n"
          ]
        }
      ]
    },
    {
      "cell_type": "markdown",
      "source": [
        "Short Answer: Difference between list and set\n",
        "List :it is ordered,mutable means can be changed,elements in list can be accessed using index,duplicates are allowed.\n",
        "eg:\n",
        "numbers= [1,2,3,4]\n",
        "Where as\n",
        "Sets:it is not ordered,but it is mutable can be change,in set elements cannot be indexed,duplicates are not allowed.\n",
        "eg:\n",
        "numbers = {1,2,3,4}"
      ],
      "metadata": {
        "id": "Yci6GUQ1iWzA"
      }
    },
    {
      "cell_type": "markdown",
      "source": [
        "Coding: Check if a string contains only unique characters\n"
      ],
      "metadata": {
        "id": "DdVgsCCxjweN"
      }
    },
    {
      "cell_type": "code",
      "source": [
        "string = input (\"Enter the string:\")"
      ],
      "metadata": {
        "id": "yNm82S3tJxP2",
        "colab": {
          "base_uri": "https://localhost:8080/"
        },
        "outputId": "d034664c-d8a9-4ae3-a2b8-96c2bc210570"
      },
      "execution_count": 5,
      "outputs": [
        {
          "name": "stdout",
          "output_type": "stream",
          "text": [
            "Enter the string:hello\n"
          ]
        }
      ]
    },
    {
      "cell_type": "code",
      "source": [
        "def unique_string(string):\n",
        "  for i in range(len(string)):\n",
        "    for j in range(i+1,len(string)):\n",
        "      if string[i] == string[j]:\n",
        "        return \"String is not unique\"\n",
        "  return \"String is unique\"\n",
        "unique_string(string)\n"
      ],
      "metadata": {
        "colab": {
          "base_uri": "https://localhost:8080/",
          "height": 35
        },
        "id": "7ie4AX89NW2W",
        "outputId": "aef2a1da-8286-41bb-d823-963170181db2"
      },
      "execution_count": 6,
      "outputs": [
        {
          "output_type": "execute_result",
          "data": {
            "text/plain": [
              "'String is not unique'"
            ],
            "application/vnd.google.colaboratory.intrinsic+json": {
              "type": "string"
            }
          },
          "metadata": {},
          "execution_count": 6
        }
      ]
    }
  ]
}